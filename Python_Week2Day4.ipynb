{
 "cells": [
  {
   "attachments": {},
   "cell_type": "markdown",
   "metadata": {},
   "source": [
    "# User-Defined Functions & Scoping"
   ]
  },
  {
   "attachments": {},
   "cell_type": "markdown",
   "metadata": {},
   "source": [
    "## Tasks Today:\n",
    "\n",
    "\n",
    "1) Functions <br>\n",
    " &nbsp;&nbsp;&nbsp;&nbsp; a) User-Defined vs. Built-In Functions <br>\n",
    " &nbsp;&nbsp;&nbsp;&nbsp; b) Accepting Parameters <br>\n",
    " &nbsp;&nbsp;&nbsp;&nbsp; c) Default Parameters <br>\n",
    " &nbsp;&nbsp;&nbsp;&nbsp; d) Making an Argument Optional <br>\n",
    " &nbsp;&nbsp;&nbsp;&nbsp; e) Keyword Arguments <br>\n",
    " &nbsp;&nbsp;&nbsp;&nbsp; f) Returning Values <br>\n",
    " &nbsp;&nbsp;&nbsp;&nbsp; g) *args <br>\n",
    " &nbsp;&nbsp;&nbsp;&nbsp; h) Docstring <br>\n",
    " &nbsp;&nbsp;&nbsp;&nbsp; i) Using a User Function in a Loop <br>\n",
    "2) Scope\n",
    "3) Creating more User-Defined functions "
   ]
  },
  {
   "attachments": {},
   "cell_type": "markdown",
   "metadata": {},
   "source": [
    "\n",
    "## Functions"
   ]
  },
  {
   "attachments": {},
   "cell_type": "markdown",
   "metadata": {},
   "source": [
    "##### User-Defined vs. Built-In Functions"
   ]
  },
  {
   "cell_type": "code",
   "execution_count": null,
   "metadata": {},
   "outputs": [
    {
     "name": "stdout",
     "output_type": "stream",
     "text": [
      "Hello\n",
      "Hello World\n",
      "Hello again\n",
      "<function say_hello at 0x0000022475B89C60>\n"
     ]
    }
   ],
   "source": [
    "#Built-in Function\n",
    "print(\"Hello\")\n",
    "\n",
    "#User Defined Function:\n",
    "def say_hello():\n",
    "    return \"Hello World\"\n",
    "print(say_hello())\n",
    "\n",
    "def say_hello2():\n",
    "    return \"Hello again\"\n",
    "\n",
    "print(say_hello2())\n",
    "\n",
    "print(say_hello)"
   ]
  },
  {
   "attachments": {},
   "cell_type": "markdown",
   "metadata": {},
   "source": [
    "##### Accepting Parameters"
   ]
  },
  {
   "cell_type": "code",
   "execution_count": null,
   "metadata": {
    "scrolled": true
   },
   "outputs": [
    {
     "data": {
      "text/plain": [
       "4"
      ]
     },
     "execution_count": 2,
     "metadata": {},
     "output_type": "execute_result"
    }
   ],
   "source": [
    "# order matters\n",
    "#parameters are positional\n",
    "# a variable can be any type of object (data type)\n",
    "\n",
    "def print_something(something):\n",
    "    return something\n",
    "print_something(4)"
   ]
  },
  {
   "cell_type": "code",
   "execution_count": null,
   "metadata": {},
   "outputs": [
    {
     "data": {
      "text/plain": [
       "'ryan'"
      ]
     },
     "execution_count": 3,
     "metadata": {},
     "output_type": "execute_result"
    }
   ],
   "source": [
    "print_something(\"ryan\")"
   ]
  },
  {
   "cell_type": "code",
   "execution_count": null,
   "metadata": {},
   "outputs": [
    {
     "data": {
      "text/plain": [
       "[2, 3, 5, 6, 'dog']"
      ]
     },
     "execution_count": 4,
     "metadata": {},
     "output_type": "execute_result"
    }
   ],
   "source": [
    "print_something([2,3, 5, 6, \"dog\"])"
   ]
  },
  {
   "cell_type": "code",
   "execution_count": null,
   "metadata": {},
   "outputs": [
    {
     "data": {
      "text/plain": [
       "'My name is Luke Skywalker'"
      ]
     },
     "execution_count": 5,
     "metadata": {},
     "output_type": "execute_result"
    }
   ],
   "source": [
    "def print_full_name(first_name, last_name):\n",
    "    return f\"My name is {first_name} {last_name}\"\n",
    "\n",
    "print_full_name(\"Luke\", \"Skywalker\")"
   ]
  },
  {
   "cell_type": "code",
   "execution_count": null,
   "metadata": {
    "scrolled": true
   },
   "outputs": [
    {
     "data": {
      "text/plain": [
       "'My name is Solo Han'"
      ]
     },
     "execution_count": 6,
     "metadata": {},
     "output_type": "execute_result"
    }
   ],
   "source": [
    "print_full_name(\"Solo\", \"Han\")"
   ]
  },
  {
   "cell_type": "code",
   "execution_count": null,
   "metadata": {},
   "outputs": [
    {
     "data": {
      "text/plain": [
       "9"
      ]
     },
     "execution_count": 7,
     "metadata": {},
     "output_type": "execute_result"
    }
   ],
   "source": [
    "num1 = 2\n",
    "num2 = 3\n",
    "\n",
    "def add_num(num1, num2):\n",
    "    \n",
    "    return num1+ num2\n",
    "\n",
    "add_num(4, 5)"
   ]
  },
  {
   "cell_type": "code",
   "execution_count": null,
   "metadata": {},
   "outputs": [
    {
     "data": {
      "text/plain": [
       "15"
      ]
     },
     "execution_count": 8,
     "metadata": {},
     "output_type": "execute_result"
    }
   ],
   "source": [
    "def add_nums2(num1, num2):\n",
    "    return num1 + num2\n",
    "add_nums2(10, 5)"
   ]
  },
  {
   "cell_type": "code",
   "execution_count": null,
   "metadata": {},
   "outputs": [
    {
     "data": {
      "text/plain": [
       "135"
      ]
     },
     "execution_count": 9,
     "metadata": {},
     "output_type": "execute_result"
    }
   ],
   "source": [
    "def multiply_nums(num1, num2):\n",
    "    return num1 * num2 \n",
    "\n",
    "multiply_nums(add_num(4, 5), add_nums2(10, 5))\n",
    "\n"
   ]
  },
  {
   "cell_type": "code",
   "execution_count": null,
   "metadata": {},
   "outputs": [
    {
     "name": "stdout",
     "output_type": "stream",
     "text": [
      "25\n",
      "13\n"
     ]
    },
    {
     "data": {
      "text/plain": [
       "325"
      ]
     },
     "execution_count": 10,
     "metadata": {},
     "output_type": "execute_result"
    }
   ],
   "source": [
    "sum_nums = add_num(10, 15)\n",
    "sum_nums2 = add_nums2(6, 7)\n",
    "print(sum_nums)\n",
    "print(sum_nums2)\n",
    "\n",
    "multiply_nums(sum_nums, sum_nums2)\n",
    "\n"
   ]
  },
  {
   "attachments": {},
   "cell_type": "markdown",
   "metadata": {},
   "source": [
    "##### Default Parameters"
   ]
  },
  {
   "cell_type": "code",
   "execution_count": null,
   "metadata": {},
   "outputs": [
    {
     "name": "stdout",
     "output_type": "stream",
     "text": [
      "The name is Bond.... Jimmy Bond.\n",
      "The name is Brown.... Jimmy Brown.\n",
      "The name is Jenkins.... Leroy Jenkins.\n"
     ]
    }
   ],
   "source": [
    "# Default parameters must come after non-default parameters at all times\n",
    "\n",
    "def agent_name(first_name, last_name = \"Bond\"):\n",
    "    return f\"The name is {last_name}.... {first_name} {last_name}.\"\n",
    "print(agent_name(\"Jimmy\"))\n",
    "print(agent_name(\"Jimmy\", \"Brown\"))\n",
    "print(agent_name(\"Leroy\", last_name = \"Jenkins\"))\n"
   ]
  },
  {
   "cell_type": "code",
   "execution_count": null,
   "metadata": {},
   "outputs": [
    {
     "name": "stdout",
     "output_type": "stream",
     "text": [
      "Your birthday is January 4 and you were born in 1998\n",
      "Your birthday is February 22 and you were born in 1999\n"
     ]
    }
   ],
   "source": [
    "def birthday_month(day, year, month=\"January\"):\n",
    "    return f\"Your birthday is {month} {day} and you were born in {year}\"\n",
    "\n",
    "print(birthday_month(4, 1998))\n",
    "\n",
    "print(birthday_month( 22, 1999, month=\"February\"))"
   ]
  },
  {
   "attachments": {},
   "cell_type": "markdown",
   "metadata": {},
   "source": [
    "##### Making an Argument Optional"
   ]
  },
  {
   "cell_type": "code",
   "execution_count": null,
   "metadata": {},
   "outputs": [
    {
     "name": "stdout",
     "output_type": "stream",
     "text": [
      "Hello Mr.  Ed. \n",
      "Hello Mr. the horse epona. \n"
     ]
    }
   ],
   "source": [
    "def print_horse_name(first, middle = \"\", last = \"Ed\"):\n",
    "    return f\"Hello {first} {middle} {last}. \"\n",
    "\n",
    "print(print_horse_name(\"Mr.\"))\n",
    "print(print_horse_name(\"Mr.\", \"the horse\", \"epona\"))"
   ]
  },
  {
   "attachments": {},
   "cell_type": "markdown",
   "metadata": {},
   "source": [
    "##### Keyword Arguments"
   ]
  },
  {
   "cell_type": "code",
   "execution_count": null,
   "metadata": {},
   "outputs": [
    {
     "name": "stdout",
     "output_type": "stream",
     "text": [
      "Bruce's power is money\n"
     ]
    }
   ],
   "source": [
    "def print_hero(name, power=\"flying\"):\n",
    "    return f\"{name}'s power is {power}\"\n",
    "print(print_hero(power=\"money\", name = \"Bruce\"))"
   ]
  },
  {
   "cell_type": "code",
   "execution_count": null,
   "metadata": {},
   "outputs": [
    {
     "data": {
      "text/plain": [
       "'Here are some neat colors: red, blue, yellow'"
      ]
     },
     "execution_count": 15,
     "metadata": {},
     "output_type": "execute_result"
    }
   ],
   "source": [
    "yellow = \"yellow\"\n",
    "def print_colors(color1, color2, color3):\n",
    "    return f\"Here are some neat colors: {color1}, {color2}, {color3}\"\n",
    "print_colors( color2=\"blue\", color3=yellow, color1=\"red\" )"
   ]
  },
  {
   "attachments": {},
   "cell_type": "markdown",
   "metadata": {},
   "source": [
    "# Creating a start, stop, step function"
   ]
  },
  {
   "cell_type": "code",
   "execution_count": null,
   "metadata": {
    "scrolled": true
   },
   "outputs": [
    {
     "name": "stdout",
     "output_type": "stream",
     "text": [
      "0\n",
      "1\n",
      "2\n",
      "3\n",
      "4\n",
      "5\n",
      "6\n",
      "7\n",
      "8\n",
      "9\n",
      "10\n",
      "11\n",
      "12\n",
      "13\n",
      "14\n"
     ]
    },
    {
     "data": {
      "text/plain": [
       "\"hey great job, you're beautiful\""
      ]
     },
     "execution_count": 16,
     "metadata": {},
     "output_type": "execute_result"
    }
   ],
   "source": [
    "def my_range(stop, start = 0, step = 1):\n",
    "    for i in range(start, stop, step):\n",
    "        print(i)\n",
    "    return \"hey great job, you're beautiful\"\n",
    "my_range(15)"
   ]
  },
  {
   "cell_type": "code",
   "execution_count": null,
   "metadata": {},
   "outputs": [
    {
     "name": "stdout",
     "output_type": "stream",
     "text": [
      "50\n",
      "57\n",
      "64\n",
      "71\n",
      "78\n",
      "85\n",
      "92\n",
      "99\n",
      "106\n",
      "113\n",
      "120\n",
      "127\n",
      "134\n",
      "141\n",
      "148\n",
      "155\n",
      "162\n",
      "169\n",
      "176\n",
      "183\n",
      "190\n",
      "197\n",
      "204\n",
      "211\n",
      "218\n",
      "225\n",
      "232\n",
      "239\n",
      "246\n",
      "253\n",
      "260\n",
      "267\n",
      "274\n",
      "281\n",
      "288\n",
      "295\n",
      "302\n",
      "309\n",
      "316\n",
      "323\n",
      "330\n",
      "337\n",
      "344\n",
      "351\n",
      "358\n",
      "365\n",
      "372\n",
      "379\n",
      "386\n",
      "393\n",
      "400\n",
      "407\n",
      "414\n",
      "421\n",
      "428\n",
      "435\n",
      "442\n",
      "449\n",
      "456\n",
      "463\n",
      "470\n",
      "477\n",
      "484\n",
      "491\n",
      "498\n",
      "505\n",
      "512\n",
      "519\n",
      "526\n",
      "533\n",
      "540\n",
      "547\n",
      "554\n",
      "561\n",
      "568\n",
      "575\n",
      "582\n",
      "589\n",
      "596\n",
      "603\n",
      "610\n",
      "617\n",
      "624\n",
      "631\n",
      "638\n",
      "645\n",
      "652\n",
      "659\n",
      "666\n",
      "673\n",
      "680\n",
      "687\n",
      "694\n",
      "701\n",
      "708\n",
      "715\n",
      "722\n",
      "729\n",
      "736\n",
      "743\n",
      "750\n",
      "757\n",
      "764\n",
      "771\n",
      "778\n",
      "785\n",
      "792\n",
      "799\n",
      "806\n",
      "813\n",
      "820\n",
      "827\n",
      "834\n",
      "841\n",
      "848\n",
      "855\n",
      "862\n",
      "869\n",
      "876\n",
      "883\n",
      "890\n",
      "897\n",
      "904\n",
      "911\n",
      "918\n",
      "925\n",
      "932\n",
      "939\n",
      "946\n",
      "953\n",
      "960\n",
      "967\n",
      "974\n",
      "981\n",
      "988\n",
      "995\n",
      "hey great job, you're beautiful\n"
     ]
    }
   ],
   "source": [
    "print(my_range(1000, step = 7, start = 50))"
   ]
  },
  {
   "attachments": {},
   "cell_type": "markdown",
   "metadata": {},
   "source": [
    "##### Returning Values"
   ]
  },
  {
   "cell_type": "code",
   "execution_count": null,
   "metadata": {},
   "outputs": [
    {
     "data": {
      "text/plain": [
       "'No Bulbasaur'"
      ]
     },
     "execution_count": 18,
     "metadata": {},
     "output_type": "execute_result"
    }
   ],
   "source": [
    "poke_list = [\"Charmander\", \"Squirtle\", \"Cyndaquil\", \"Chikorita\", \"Totodile\"]\n",
    "def find_a_bulbasaur(arr):\n",
    "    for poke in arr:\n",
    "        if poke == 'Bulbasaur':\n",
    "            return \"Bulba Bulba\"       \n",
    "        \n",
    "    return \"No Bulbasaur\"\n",
    "\n",
    "find_a_bulbasaur(poke_list)\n",
    "    "
   ]
  },
  {
   "attachments": {},
   "cell_type": "markdown",
   "metadata": {},
   "source": [
    "##### *args / **kwargs (keyword arguments)"
   ]
  },
  {
   "cell_type": "code",
   "execution_count": null,
   "metadata": {},
   "outputs": [
    {
     "name": "stdout",
     "output_type": "stream",
     "text": [
      "2\n",
      "('Mega Man', 'Cheetor', \"What else is on Ryan's desk\", ['stuff', 'morestuff'])\n",
      "{'names': ['Jeong', 'Mike', 'Tenzin'], 'language': 'python'}\n"
     ]
    }
   ],
   "source": [
    "#*args, **kwargs\n",
    "#*args stands for arguments (**kwargs is for keyword arguments) & takes any number of arguments as parameters\n",
    "#if other parameteres are present, *args must go last\n",
    "\n",
    "def print_args(num1, *args, **kwargs):\n",
    "    print(num1)\n",
    "    print(args)\n",
    "    print(kwargs)\n",
    "    \n",
    "print_args(2, \"Mega Man\", \"Cheetor\", \"What else is on Ryan's desk\",\n",
    "           ['stuff', 'morestuff'], names=['Jeong', 'Mike', 'Tenzin'], language = 'python')"
   ]
  },
  {
   "cell_type": "code",
   "execution_count": null,
   "metadata": {},
   "outputs": [
    {
     "name": "stdout",
     "output_type": "stream",
     "text": [
      "10\n",
      "Mega Man\n",
      "Link\n",
      "Bowser\n",
      "Donkey Kong\n",
      "annoying Ness\n",
      "delicious pie\n",
      "names ['Alex', 'Kayla', 'Austin']\n",
      "27\n"
     ]
    }
   ],
   "source": [
    "# Write a function that accepts args and kwargs and prints out each argument and keyword argument on its own line.\n",
    "\n",
    "def print_args(num, *args, **kwargs):\n",
    "    \n",
    "    for arg in args:\n",
    "        print(arg)\n",
    "        \n",
    "    for key, value in kwargs.items():\n",
    "        # kwargs = {}\n",
    "        print(key, value)\n",
    "    print(num)\n",
    "        \n",
    "print_args(27, 10, \"Mega Man\", \"Link\", \"Bowser\", \"Donkey Kong\", annoying = \"Ness\", delicious = \"pie\", names = ['Alex', \"Kayla\", \"Austin\"])"
   ]
  },
  {
   "attachments": {},
   "cell_type": "markdown",
   "metadata": {},
   "source": [
    "##### Docstring"
   ]
  },
  {
   "cell_type": "code",
   "execution_count": null,
   "metadata": {},
   "outputs": [
    {
     "name": "stdout",
     "output_type": "stream",
     "text": [
      "Ryan\n",
      "Alex\n",
      "Jeong\n",
      "Mike\n",
      "Tenzin\n",
      "Kayla\n"
     ]
    },
    {
     "data": {
      "text/plain": [
       "'d'"
      ]
     },
     "execution_count": 21,
     "metadata": {},
     "output_type": "execute_result"
    }
   ],
   "source": [
    "# really nice for leaving notes about functionaly in your code\n",
    "# providing instructions\n",
    "def print_names(arr):\n",
    "    \"\"\"    \n",
    "    print_names(arr)\n",
    "    Function requires a list to be passed as a parameter\n",
    "    and will print the contents of the list. Expecting a list of name\n",
    "    as strings to be passed in.    \n",
    "    \"\"\"\n",
    "\n",
    "    for name in arr:\n",
    "        print(name)\n",
    "      \n",
    "print_names([\"Ryan\", \"Alex\", \"Jeong\", \"Mike\", \"Tenzin\", \"Kayla\"])\n",
    "\n",
    "def something(d):\n",
    "    return d\n",
    "\n",
    "something('d')"
   ]
  },
  {
   "attachments": {},
   "cell_type": "markdown",
   "metadata": {},
   "source": [
    "##### Using a User Function in a Loop"
   ]
  },
  {
   "cell_type": "code",
   "execution_count": 22,
   "metadata": {},
   "outputs": [],
   "source": [
    "def printInput(answer):\n",
    "    print(f\"I say heyayyayayayayayayayaayayya {answer}\")\n",
    "    \n",
    "while True:\n",
    "    ask = input(\"Whats going on?\")\n",
    "    \n",
    "    printInput(ask)\n",
    "    \n",
    "    response = input(\"Are you ready to quit? \")\n",
    "    if response.lower() == \"yes\":\n",
    "        break"
   ]
  },
  {
   "attachments": {},
   "cell_type": "markdown",
   "metadata": {},
   "source": [
    "## Function Exercises <br>\n",
    "### Exercise 1\n",
    "<p>Write a function that loops through a list of first_names and a list of last_names, combines the two and return a list of full_names</p>"
   ]
  },
  {
   "cell_type": "code",
   "execution_count": null,
   "metadata": {},
   "outputs": [
    {
     "data": {
      "text/plain": [
       "['John Smith', 'Evan Smith', 'Jordan Williams', 'Max Bell']"
      ]
     },
     "execution_count": 110,
     "metadata": {},
     "output_type": "execute_result"
    }
   ],
   "source": [
    "first_name = ['John', 'Evan', 'Jordan', 'Max']\n",
    "last_name = ['Smith', 'Smith', 'Williams', 'Bell']\n",
    "\n",
    "# Output: ['John Smith', 'Evan Smith', 'Jordan Williams', 'Max Bell']\n",
    "def full_name(first_name, last_name):\n",
    "    return [first_name[i] + \" \" + last_name[i] for i in range(len(first_name))]\n",
    "\n",
    "full_name(first_name, last_name)"
   ]
  },
  {
   "cell_type": "code",
   "execution_count": null,
   "metadata": {},
   "outputs": [
    {
     "data": {
      "text/plain": [
       "['John Smith', 'Evan Smith', 'Jordan Williams', 'Max Bell']"
      ]
     },
     "execution_count": 111,
     "metadata": {},
     "output_type": "execute_result"
    }
   ],
   "source": [
    "def get_full_name(first, last):\n",
    "    \"\"\"Combine first and last to make a full name\"\"\"\n",
    "    full_name = f\"{first} {last}\"\n",
    "    return full_name.title()\n",
    "\n",
    "def full_names(firsts, lasts): # this one takes in lists\n",
    "    fulls = []\n",
    "    for i in range(len(firsts)):\n",
    "        whole_name = get_full_name(firsts[i], lasts[i])\n",
    "        fulls.append(whole_name)\n",
    "    return fulls\n",
    "full_names(first_name, last_name)\n",
    "    "
   ]
  },
  {
   "attachments": {},
   "cell_type": "markdown",
   "metadata": {},
   "source": [
    "### Exercise 2\n",
    "Create a function that alters all values in the given list by subtracting 5 and then doubling them."
   ]
  },
  {
   "cell_type": "code",
   "execution_count": null,
   "metadata": {},
   "outputs": [],
   "source": [
    "input_list = [5,10,15,20,3]\n",
    "# output = [0,10,20,30,-4]\n",
    "\n"
   ]
  },
  {
   "cell_type": "code",
   "execution_count": null,
   "metadata": {},
   "outputs": [
    {
     "name": "stdout",
     "output_type": "stream",
     "text": [
      "[0, 10, 20, 30, -4]\n"
     ]
    }
   ],
   "source": [
    "def doubling(arr):\n",
    "    l_1 = []\n",
    "    for i in arr:\n",
    "        l_1.append((i -5) *2)\n",
    "    return l_1\n",
    "\n",
    "print(doubling(input_list))\n"
   ]
  },
  {
   "cell_type": "code",
   "execution_count": null,
   "metadata": {},
   "outputs": [
    {
     "data": {
      "text/plain": [
       "[0, 10, 20, 30, -4]"
      ]
     },
     "execution_count": 115,
     "metadata": {},
     "output_type": "execute_result"
    }
   ],
   "source": [
    "def mutateValue(nums):\n",
    "    '''Returns a mutated list by subtracting 5 and doubling OG value'''\n",
    "    return [(num-5)*2 for num in nums]\n",
    "\n",
    "mutateValue(input_list)\n"
   ]
  },
  {
   "cell_type": "code",
   "execution_count": null,
   "metadata": {},
   "outputs": [
    {
     "data": {
      "text/plain": [
       "[0, 10, 20, 30, -4]"
      ]
     },
     "execution_count": 116,
     "metadata": {},
     "output_type": "execute_result"
    }
   ],
   "source": [
    "def fun_math(lst):\n",
    "    return [(x-5)*2 for x in lst]\n",
    "\n",
    "fun_math(input_list)\n"
   ]
  },
  {
   "cell_type": "code",
   "execution_count": null,
   "metadata": {},
   "outputs": [
    {
     "data": {
      "text/plain": [
       "[0, 10, 20, 30, -4]"
      ]
     },
     "execution_count": 117,
     "metadata": {},
     "output_type": "execute_result"
    }
   ],
   "source": [
    "def min_mult(lst):\n",
    "    return [(lst[i]-5)*2 for i in range(len(lst))]\n",
    "    \n",
    "min_mult(input_list)\n"
   ]
  },
  {
   "attachments": {},
   "cell_type": "markdown",
   "metadata": {},
   "source": [
    "### Exercise 3\n",
    "Create a function that takes in a list of strings and filters out the strings that DO NOT contain vowels. "
   ]
  },
  {
   "cell_type": "code",
   "execution_count": null,
   "metadata": {},
   "outputs": [],
   "source": [
    "string_list = ['Sheldon','Pnny','Leonard','Hwrd','Rj','Amy','Strt']\n",
    "# output = ['Sheldon','Leonard','Amy']\n",
    "\n"
   ]
  },
  {
   "cell_type": "code",
   "execution_count": null,
   "metadata": {},
   "outputs": [
    {
     "name": "stdout",
     "output_type": "stream",
     "text": [
      "['Sheldon', 'Leonard', 'Amy']\n"
     ]
    }
   ],
   "source": [
    "string_list = ['Sheldon','Pnny','Leonard','Hwrd','Rj','Amy','Strt']\n",
    "# output = ['Sheldon','Leonard','Amy']\n",
    "\n",
    "def vowel_list(list):\n",
    "    new_list = []\n",
    "    vowels = ['a','e','i','o','u']\n",
    "    for name in list:\n",
    "        for letter in name:\n",
    "            if letter.lower() in vowels:\n",
    "                new_list.append(name)\n",
    "                break\n",
    "                \n",
    "    return new_list\n",
    "\n",
    "print(vowel_list(string_list))\n"
   ]
  },
  {
   "cell_type": "code",
   "execution_count": null,
   "metadata": {},
   "outputs": [
    {
     "data": {
      "text/plain": [
       "['Sheldon', 'Leonard', 'Amy']"
      ]
     },
     "execution_count": 122,
     "metadata": {},
     "output_type": "execute_result"
    }
   ],
   "source": [
    "def contain_vowel_list(lst):\n",
    "    vowels = ('a','e','i','o','u')\n",
    "    l = []\n",
    "    for s in lst:\n",
    "        for c in s:\n",
    "            if c.lower() in vowels:\n",
    "                l.append(s)\n",
    "                break\n",
    "    return l\n",
    "\n",
    "contain_vowel_list(string_list)\n"
   ]
  },
  {
   "cell_type": "code",
   "execution_count": null,
   "metadata": {},
   "outputs": [
    {
     "name": "stdout",
     "output_type": "stream",
     "text": [
      "['Sheldon', 'Leonard', 'Amy']\n"
     ]
    }
   ],
   "source": [
    "def no_vowels(arr):\n",
    "#     v = ['a', 'e', 'i', 'o', 'u']\n",
    "    l_1 = []\n",
    "    for i in arr:\n",
    "        if 'a' in i.lower() or'e'in i.lower() or 'i' in i.lower() or 'o' in i.lower() or 'u' in i.lower():\n",
    "            l_1.append(i)\n",
    "    return l_1\n",
    "\n",
    "print(no_vowels(string_list))\n"
   ]
  },
  {
   "cell_type": "code",
   "execution_count": null,
   "metadata": {},
   "outputs": [
    {
     "name": "stdout",
     "output_type": "stream",
     "text": [
      "['Penny', 'Raj', 'Amy']\n"
     ]
    }
   ],
   "source": [
    "string_list = ['Sheldon','Penny','Leonard','Howard','Raj','Amy','Stuart']\n",
    "def bigbang(names):\n",
    "    new_string = []\n",
    "    for name in names:\n",
    "        if len(name) < 6:\n",
    "            new_string.append(name)\n",
    "    return new_string\n",
    "            \n",
    "print(bigbang(string_list))\n"
   ]
  },
  {
   "attachments": {},
   "cell_type": "markdown",
   "metadata": {},
   "source": [
    "### Exercise 4\n",
    "Create a function that accepts a list as a parameter and returns a dictionary containing the list items as it's keys, and the number of times they appear in the list as the values"
   ]
  },
  {
   "cell_type": "code",
   "execution_count": null,
   "metadata": {},
   "outputs": [],
   "source": [
    "example_list = [\"Harry\", 'Hermione','Harry','Ron','Dobby','Draco','Luna','Harry','Hermione','Ron','Ron','Ron']\n",
    "\n",
    "# output = {\n",
    "#     \"Harry\":3,\n",
    "#     \"Hermione\":2,\n",
    "#     \"Ron\":4,\n",
    "#     \"Dobby\":1,\n",
    "#     \"Draco\":1,\n",
    "#     \"Luna\": 1\n",
    "# }\n",
    "\n"
   ]
  },
  {
   "cell_type": "code",
   "execution_count": null,
   "metadata": {},
   "outputs": [],
   "source": [
    "def hogwarts(arr):\n",
    "    students = {}\n",
    "    for i in arr:\n",
    "        if i not in students:\n",
    "            students[i] = 1\n",
    "        else:\n",
    "            students[i] += 1\n",
    "    return students\n",
    "\n",
    "hogwarts(example_list)"
   ]
  },
  {
   "cell_type": "code",
   "execution_count": null,
   "metadata": {
    "scrolled": true
   },
   "outputs": [
    {
     "name": "stdout",
     "output_type": "stream",
     "text": [
      "Harry : 3\n",
      "Hermione : 2\n",
      "Ron : 4\n",
      "Dobby : 1\n",
      "Draco : 1\n",
      "Luna : 1\n"
     ]
    }
   ],
   "source": [
    "def list_count(arr):\n",
    "    d_1 = {}\n",
    "    for i in arr:\n",
    "        if i not in d_1:\n",
    "            d_1[i] = 1\n",
    "        else:\n",
    "            d_1[i] += 1\n",
    "    return d_1\n",
    "\n",
    "\n",
    "for key, value in list_count(example_list).items():\n",
    "    print(key , \":\", value )\n"
   ]
  },
  {
   "cell_type": "code",
   "execution_count": null,
   "metadata": {},
   "outputs": [
    {
     "data": {
      "text/plain": [
       "{'Harry': 3, 'Hermione': 2, 'Ron': 4, 'Dobby': 1, 'Draco': 1, 'Luna': 1}"
      ]
     },
     "execution_count": 130,
     "metadata": {},
     "output_type": "execute_result"
    }
   ],
   "source": [
    "def fan_votes(lst):\n",
    "    votes = {}\n",
    "    for name in lst:\n",
    "        if name not in votes:\n",
    "            votes[name] = 1\n",
    "        else:\n",
    "            votes[name] += 1\n",
    "    return votes\n",
    "\n",
    "fan_votes(example_list)\n"
   ]
  },
  {
   "cell_type": "code",
   "execution_count": null,
   "metadata": {},
   "outputs": [
    {
     "data": {
      "text/plain": [
       "{'Harry': 3, 'Hermione': 2, 'Ron': 4, 'Dobby': 1, 'Draco': 1, 'Luna': 1}"
      ]
     },
     "execution_count": 131,
     "metadata": {},
     "output_type": "execute_result"
    }
   ],
   "source": [
    "def nameCount(names):\n",
    "    '''\n",
    "    Accepts a list as parameter\n",
    "    Returns a dict containing the items in list as keys\n",
    "    and the the number of times they appear as values\n",
    "    '''\n",
    "    result = {}\n",
    "    for name in names:\n",
    "        result[name] = names.count(name)\n",
    "    return result\n",
    "nameCount(example_list)\n"
   ]
  },
  {
   "cell_type": "code",
   "execution_count": null,
   "metadata": {},
   "outputs": [
    {
     "name": "stdout",
     "output_type": "stream",
     "text": [
      "{'Harry': 3, 'Hermione': 2, 'Ron': 4, 'Dobby': 1, 'Draco': 1, 'Luna': 1}\n"
     ]
    }
   ],
   "source": [
    "def harryPottah(lst):\n",
    "    newDict = {}\n",
    "    \n",
    "    for i in lst:\n",
    "        if i in newDict:\n",
    "            newDict[i] += 1\n",
    "        else:\n",
    "            newDict[i] = 1\n",
    "    \n",
    "    print(newDict)\n",
    "\n",
    "harryPottah(example_list)\n"
   ]
  },
  {
   "cell_type": "code",
   "execution_count": null,
   "metadata": {},
   "outputs": [
    {
     "name": "stdout",
     "output_type": "stream",
     "text": [
      "{'Harry': 3, 'Hermione': 2, 'Ron': 4, 'Dobby': 1, 'Draco': 1, 'Luna': 1}\n"
     ]
    }
   ],
   "source": [
    "def votes(list1):\n",
    "    d={}\n",
    "    for name in list1:\n",
    "        if name not in d:\n",
    "            d[name] = 1\n",
    "        else:\n",
    "            d[name]+= 1\n",
    "            \n",
    "    return d\n",
    "\n",
    "print(votes(example_list))\n"
   ]
  },
  {
   "cell_type": "code",
   "execution_count": null,
   "metadata": {},
   "outputs": [
    {
     "data": {
      "text/plain": [
       "{'Harry': 3, 'Hermione': 2, 'Ron': 4, 'Dobby': 1, 'Draco': 1, 'Luna': 1}"
      ]
     },
     "execution_count": 136,
     "metadata": {},
     "output_type": "execute_result"
    }
   ],
   "source": [
    "def count_items(example_list):\n",
    "    item_counts = {}\n",
    "    for item in example_list:\n",
    "        if item in item_counts:\n",
    "            item_counts[item] += 1\n",
    "        else:\n",
    "            item_counts[item] = 1\n",
    "    return item_counts\n",
    "count_items(example_list)\n"
   ]
  },
  {
   "cell_type": "code",
   "execution_count": null,
   "metadata": {},
   "outputs": [
    {
     "name": "stdout",
     "output_type": "stream",
     "text": [
      "{'Harry': 3, 'Hermione': 2, 'Ron': 4, 'Dobby': 1, 'Draco': 1, 'Luna': 1}\n"
     ]
    }
   ],
   "source": [
    "def dict_list(example):\n",
    "    final_dict = {}\n",
    "    for name in example:\n",
    "        final_dict[name] = example.count(name)\n",
    "    return final_dict\n",
    "\n",
    "print(dict_list(example_list))\n"
   ]
  },
  {
   "cell_type": "code",
   "execution_count": null,
   "metadata": {},
   "outputs": [],
   "source": []
  },
  {
   "attachments": {},
   "cell_type": "markdown",
   "metadata": {},
   "source": [
    "\n",
    "\n",
    "## Scope <br>\n",
    "<p>Scope refers to the ability to access variables, different types of scope include:<br>a) Global<br>b) Function (local)<br>c) Class (local)</p>"
   ]
  },
  {
   "cell_type": "code",
   "execution_count": null,
   "metadata": {},
   "outputs": [
    {
     "name": "stdout",
     "output_type": "stream",
     "text": [
      "3\n",
      "6\n"
     ]
    }
   ],
   "source": [
    "# placement of variable declaration matters\n",
    "\n",
    "number = 3 # Global Variable\n",
    "\n",
    "def myFunc():\n",
    "    num_3 = 6 # Local Function Variable\n",
    "    return num_3\n",
    "\n",
    "print(number)\n",
    "return_num = myFunc()\n",
    "print(return_num)"
   ]
  },
  {
   "cell_type": "code",
   "execution_count": null,
   "metadata": {},
   "outputs": [
    {
     "name": "stdout",
     "output_type": "stream",
     "text": [
      "27\n",
      "15\n"
     ]
    }
   ],
   "source": [
    "num = 10 #<--- this is a global variable\n",
    "\n",
    "def add_nums(number):\n",
    "    num = 12\n",
    "    return number + num\n",
    "\n",
    "print(add_nums(15))\n",
    "\n",
    "num = 15\n",
    "print(num)"
   ]
  },
  {
   "attachments": {},
   "cell_type": "markdown",
   "metadata": {},
   "source": [
    "## Modules"
   ]
  },
  {
   "attachments": {},
   "cell_type": "markdown",
   "metadata": {},
   "source": [
    "##### Importing Entire Modules\n"
   ]
  },
  {
   "cell_type": "code",
   "execution_count": null,
   "metadata": {},
   "outputs": [],
   "source": [
    "## Modules\n",
    "\n",
    "print(math.pi)\n",
    "\n",
    "num = 5\n",
    "num2 = 2\n",
    "num3 = 5//2\n",
    "print(3)\n",
    "print(math.ceil(math.pi))\n"
   ]
  },
  {
   "attachments": {},
   "cell_type": "markdown",
   "metadata": {},
   "source": [
    "##### Importing Methods Only"
   ]
  },
  {
   "cell_type": "code",
   "execution_count": null,
   "metadata": {},
   "outputs": [],
   "source": [
    "# from 'xxx' import 'xxx'\n",
    "# from math import floor\n",
    "from math import floor, pi\n",
    "\n",
    "print(floor(pi))\n",
    "print(pi)"
   ]
  },
  {
   "attachments": {},
   "cell_type": "markdown",
   "metadata": {},
   "source": [
    "##### Using the 'as' Keyword"
   ]
  },
  {
   "cell_type": "code",
   "execution_count": null,
   "metadata": {},
   "outputs": [],
   "source": [
    "# from 'xxx' import 'xxx' as 'xxx' or import 'xxx' as 'xxx'\n",
    "# from math import floor as f\n",
    "from math import floor as f, pi as p\n",
    "\n",
    "print(p)\n",
    "\n"
   ]
  },
  {
   "attachments": {},
   "cell_type": "markdown",
   "metadata": {},
   "source": [
    "##### Creating a Module"
   ]
  },
  {
   "cell_type": "code",
   "execution_count": null,
   "metadata": {},
   "outputs": [],
   "source": [
    "from module import printName as pn\n",
    "\n",
    "pn(\"Ryan\")\n",
    "\n"
   ]
  },
  {
   "cell_type": "code",
   "execution_count": null,
   "metadata": {},
   "outputs": [],
   "source": []
  },
  {
   "cell_type": "code",
   "execution_count": null,
   "metadata": {},
   "outputs": [],
   "source": []
  },
  {
   "attachments": {},
   "cell_type": "markdown",
   "metadata": {},
   "source": [
    "# Homework Exercises"
   ]
  },
  {
   "attachments": {},
   "cell_type": "markdown",
   "metadata": {},
   "source": [
    "### 1) Create a Module in VS Code and Import It into jupyter notebook <br>\n",
    "<p><b>Module should have the following capabilities:</b><br><br>\n",
    "1a) Has a function to calculate the square footage of a house <br>\n",
    "    <b>Reminder of Formula: Length X Width == Area</b><br>\n",
    "        <hr>\n",
    "1b) Has a function to calculate the circumference of a circle <br><br>\n",
    "<b>Program in Jupyter Notebook should take in user input and use imported functions to calculate a circle's circumference or a houses square footage</b>\n",
    "</p>"
   ]
  },
  {
   "cell_type": "code",
   "execution_count": null,
   "metadata": {},
   "outputs": [
    {
     "name": "stdout",
     "output_type": "stream",
     "text": [
      "20\n",
      "31.41592653589793\n"
     ]
    }
   ],
   "source": [
    "import homework\n",
    "homework.house(2, 10)\n",
    "print(homework.house(2, 10))\n",
    "\n",
    "homework.circle(5)\n",
    "print(homework.circle(5))\n",
    "\n",
    "\n",
    "\n"
   ]
  },
  {
   "cell_type": "code",
   "execution_count": 1,
   "metadata": {},
   "outputs": [
    {
     "name": "stdout",
     "output_type": "stream",
     "text": [
      "Welcome to the Cute Cat Store!\n",
      "ITEM\t\t\tNAME                    PRICE ($)\n",
      "1.\t\t\tYuzu juice\t\t\t9.99\n",
      "2.\t\t\tLobster\t\t\t19.99\n",
      "3.\t\t\tTruffle\t\t\t14.99\n",
      "4.\t\t\tSakura Mochi\t\t\t5.99\n",
      "You selected Lobster\n",
      "Added to shopping cart: 3 units of Lobster\n",
      "ITEM\t\tQUANT\t\tUNIT PRICE\t\tTOTAL\n",
      "Lobster\t\t3\t\t19.99\t\t59.97\n",
      "\n",
      "Your total order is ($) 59.97\n",
      "Proceed to checkout\n",
      "\n",
      "Thank you for shopping at the Cute Cat Store! We hope to see you again soon!\n"
     ]
    }
   ],
   "source": [
    "print('Welcome to the Cute Cat Store!')\n",
    "\n",
    "# Define the menu dictionary\n",
    "menu = {'Yuzu juice': 9.99, 'Lobster': 19.99,\n",
    "        'Truffle': 14.99, 'Sakura Mochi': 5.99}\n",
    "\n",
    "# Print the menu\n",
    "print('ITEM', 'NAME                    PRICE ($)', sep='\\t\\t\\t')\n",
    "for i, item in enumerate(menu.items(), 1):\n",
    "    print(str(i) + '.', item[0], item[1], sep='\\t\\t\\t')\n",
    "\n",
    "# Initialize the shopping cart dictionary and the shopping_ongoing flag\n",
    "shopping_cart = {}\n",
    "shopping_ongoing = True\n",
    "\n",
    "while shopping_ongoing:\n",
    "    order = int(\n",
    "        input('Enter 1 to 4 to select an item, 5 to proceed to checkout.\\n'))\n",
    "\n",
    "    if order <= 4:\n",
    "        # User wants to purchase something.\n",
    "        item = list(menu.keys())[order - 1]\n",
    "        print('You selected', item)\n",
    "\n",
    "        quant = int(input('How many units do you wish to purchase?\\n'))\n",
    "\n",
    "        # Add the item to the shopping cart dictionary.\n",
    "        if item in shopping_cart:\n",
    "            shopping_cart[item] += quant\n",
    "        else:\n",
    "            shopping_cart[item] = quant\n",
    "\n",
    "        print('Added to shopping cart:', quant, 'units of', item)\n",
    "    elif order == 5:\n",
    "        shopping_ongoing = False\n",
    "    else:\n",
    "        print(\"Sorry that was not a valid input.\")\n",
    "\n",
    "# Show the shopping cart\n",
    "print('ITEM', 'QUANT', 'UNIT PRICE', 'TOTAL', sep='\\t\\t')\n",
    "\n",
    "# Initialize grand total\n",
    "grand_tot = 0.0\n",
    "\n",
    "# Print items in the shopping cart\n",
    "for item, quant in shopping_cart.items():\n",
    "    unit_price = menu[item]\n",
    "    tot_price = round(unit_price * quant, 2)\n",
    "    grand_tot += tot_price\n",
    "    print(item, quant, unit_price, tot_price, sep='\\t\\t')\n",
    "\n",
    "# Print the grand total\n",
    "grand_tot = round(grand_tot, 2)\n",
    "print('\\nYour total order is ($)', grand_tot)\n",
    "\n",
    "# Print a message for the checkout\n",
    "print('Proceed to checkout')\n",
    "# Thank the user for shopping\n",
    "print(\"\\nThank you for shopping at the Cute Cat Store! We hope to see you again soon!\")"
   ]
  },
  {
   "attachments": {},
   "cell_type": "markdown",
   "metadata": {},
   "source": [
    "## Exercise 2 <br>\n",
    "<p>Create a function which given an array of integers, return an array, where the first element is the count of\n",
    "positives numbers and the second element is sum of negative numbers. 0 is neither positive nor negative.\n",
    "If the input array is empty or null, return an empty array.</p><br>\n"
   ]
  },
  {
   "cell_type": "code",
   "execution_count": 2,
   "metadata": {},
   "outputs": [
    {
     "name": "stdout",
     "output_type": "stream",
     "text": [
      "[5, -164]\n"
     ]
    }
   ],
   "source": [
    "arr = [2, -4, 5, 3, 12, -104, -56, 27, 0]\n",
    "\n",
    "def count_and_sum(arr):\n",
    "    if arr is None or len(arr) == 0:\n",
    "        return []\n",
    "    positive_count = sum([1 for num in arr if num > 0])\n",
    "    negative_sum = sum([num for num in arr if num < 0])\n",
    "    return [positive_count, negative_sum]\n",
    "\n",
    "result = count_and_sum(arr)\n",
    "print(result)\n",
    "  "
   ]
  },
  {
   "attachments": {},
   "cell_type": "markdown",
   "metadata": {},
   "source": [
    "## Exercise 3 <br>\n",
    "<p>Create a function that returns the sum of the two lowest positive numbers given\n",
    "an array of minimum 4 positive integers. No floats or non-positive integers will be passed.</p>"
   ]
  },
  {
   "cell_type": "code",
   "execution_count": 5,
   "metadata": {},
   "outputs": [
    {
     "data": {
      "text/plain": [
       "26"
      ]
     },
     "execution_count": 5,
     "metadata": {},
     "output_type": "execute_result"
    }
   ],
   "source": [
    "pos_arr = [6, 20, 48, 96, 109, 10034]\n",
    "\n",
    "def get_sum_of_two_smallest_numbers(pos_arr):\n",
    "    # sort the array in ascending order\n",
    "    sorted_arr = sorted(pos_arr)\n",
    "    # return the sum of the first two elements of the sorted array\n",
    "    return sorted_arr[0] + sorted_arr[1]\n",
    "\n",
    "pos_arr = [6, 20, 48, 96, 109, 10034]\n",
    "get_sum_of_two_smallest_numbers(pos_arr)"
   ]
  },
  {
   "attachments": {},
   "cell_type": "markdown",
   "metadata": {},
   "source": [
    "## Exercise 4 <br>\n",
    "<p>Write a function that when given a list of items will return the \n",
    "item that appears the most times in the list. \n",
    "If two or more items appear the same amount of times, output all items in a list.\n",
    "\n",
    "Example Input = ['Orange', 'Apple', 'Bear', 3, 7, 'Tree', 'Orange', 'Tree']\n",
    "Example Out = ['Orange', 'Tree']\n",
    "\n",
    "#Hint (a counter dictionary might be helpful)</p>"
   ]
  },
  {
   "cell_type": "code",
   "execution_count": 7,
   "metadata": {},
   "outputs": [
    {
     "name": "stdout",
     "output_type": "stream",
     "text": [
      "['Orange', 'Tree']\n"
     ]
    }
   ],
   "source": [
    "def most_common_items(items_list):\n",
    "    from collections import Counter\n",
    "\n",
    "    counter_dict = Counter(items_list)\n",
    "    max_occurrence = max(counter_dict.values())\n",
    "    most_common_items_list = [item for item, occurrence in counter_dict.items() if occurrence == max_occurrence]\n",
    "\n",
    "    return most_common_items_list\n",
    "\n",
    "input_list = ['Orange', 'Apple', 'Bear', 3, 7, 'Tree', 'Orange', 'Tree']\n",
    "output_list = most_common_items(input_list)\n",
    "print(output_list)\n"
   ]
  }
 ],
 "metadata": {
  "kernelspec": {
   "display_name": "Python 3 (ipykernel)",
   "language": "python",
   "name": "python3"
  },
  "language_info": {
   "codemirror_mode": {
    "name": "ipython",
    "version": 3
   },
   "file_extension": ".py",
   "mimetype": "text/x-python",
   "name": "python",
   "nbconvert_exporter": "python",
   "pygments_lexer": "ipython3",
   "version": "3.11.2"
  }
 },
 "nbformat": 4,
 "nbformat_minor": 2
}
